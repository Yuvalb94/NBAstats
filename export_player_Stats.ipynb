{
 "cells": [
  {
   "cell_type": "code",
   "execution_count": null,
   "id": "2999eb82",
   "metadata": {},
   "outputs": [],
   "source": [
    "asdasda"
   ]
  }
 ],
 "metadata": {
  "language_info": {
   "name": "python"
  }
 },
 "nbformat": 4,
 "nbformat_minor": 5
}
