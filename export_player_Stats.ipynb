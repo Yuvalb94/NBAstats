{
 "cells": [
  {
   "cell_type": "code",
   "execution_count": 1,
   "id": "2999eb82",
   "metadata": {},
   "outputs": [
    {
     "name": "stdout",
     "output_type": "stream",
     "text": [
      "Done:\n",
      " - nba_top150_per_game_2023-24.csv\n",
      " - nba_top150_per_game_2024-25.csv\n",
      " - nba_top150_per_game_combined.csv\n"
     ]
    }
   ],
   "source": [
    "from nba_api.stats.endpoints import leaguedashplayerstats\n",
    "from nba_api.stats.library.parameters import SeasonTypeAllStar\n",
    "import pandas as pd\n",
    "import time\n",
    "\n",
    "# --- Settings ---\n",
    "SEASONS = [\"2023-24\", \"2024-25\"]   # last two seasons\n",
    "SEASON_TYPE = SeasonTypeAllStar.regular  # \"Regular Season\"\n",
    "TOP_N = 150\n",
    "OUTPUT_BASENAME = \"nba_top150_per_game\"  # will create one CSV per season + a combined file\n",
    "\n",
    "# Columns to keep (per-game)\n",
    "KEEP_COLS = [\n",
    "    \"SEASON\", \"PLAYER_ID\", \"PLAYER_NAME\", \"TEAM_ABBREVIATION\", \"GP\", \"MIN\",\n",
    "    \"PTS\", \"REB\", \"AST\", \"STL\", \"BLK\", \"TOV\", \"FG3M\", \"FG_PCT\", \"FT_PCT\"\n",
    "]\n",
    "\n",
    "def fetch_season_per_game(season: str) -> pd.DataFrame:\n",
    "    # Query per-game stats for the season\n",
    "    res = leaguedashplayerstats.LeagueDashPlayerStats(\n",
    "        season=season,\n",
    "        season_type_all_star=SEASON_TYPE,\n",
    "        per_mode_detailed=\"PerGame\",  # per-game averages\n",
    "        measure_type_detailed_defense=\"Base\",  # the basic box score set\n",
    "        pace_adjust=\"N\"  # raw per-game, not pace-adjusted\n",
    "    )\n",
    "    df = res.get_data_frames()[0].copy()\n",
    "    df[\"SEASON\"] = season\n",
    "\n",
    "    # Keep only the fields you want (renaming 3-pointers to your wording later if you like)\n",
    "    df = df[KEEP_COLS]\n",
    "\n",
    "    # Rank players by total minutes (GP * MIN) to get the most-regular players\n",
    "    df[\"TOTAL_MIN\"] = df[\"GP\"] * df[\"MIN\"]\n",
    "    df = df.sort_values(\"TOTAL_MIN\", ascending=False).head(TOP_N).drop(columns=[\"TOTAL_MIN\"])\n",
    "\n",
    "    # (Optional) round percentages to 3 decimals\n",
    "    for col in [\"FG_PCT\", \"FT_PCT\"]:\n",
    "        df[col] = df[col].round(3)\n",
    "\n",
    "    # (Optional) rename for human-friendliness\n",
    "    df = df.rename(columns={\n",
    "        \"FG3M\": \"3PM\",        # 3-pointers made per game\n",
    "        \"FG_PCT\": \"FG%\",\n",
    "        \"FT_PCT\": \"FT%\"\n",
    "    })\n",
    "    return df\n",
    "\n",
    "def main():\n",
    "    all_frames = []\n",
    "    for i, season in enumerate(SEASONS):\n",
    "        df = fetch_season_per_game(season)\n",
    "        df.to_csv(f\"{OUTPUT_BASENAME}_{season}.csv\", index=False)\n",
    "        all_frames.append(df)\n",
    "        # Be kind to the API\n",
    "        if i < len(SEASONS) - 1:\n",
    "            time.sleep(1.2)\n",
    "\n",
    "    combined = pd.concat(all_frames, ignore_index=True)\n",
    "    combined.to_csv(f\"{OUTPUT_BASENAME}_combined.csv\", index=False)\n",
    "    print(\"Done:\")\n",
    "    for season in SEASONS:\n",
    "        print(f\" - {OUTPUT_BASENAME}_{season}.csv\")\n",
    "    print(f\" - {OUTPUT_BASENAME}_combined.csv\")\n",
    "\n",
    "if __name__ == \"__main__\":\n",
    "    main()\n"
   ]
  }
 ],
 "metadata": {
  "kernelspec": {
   "display_name": ".venv",
   "language": "python",
   "name": "python3"
  },
  "language_info": {
   "codemirror_mode": {
    "name": "ipython",
    "version": 3
   },
   "file_extension": ".py",
   "mimetype": "text/x-python",
   "name": "python",
   "nbconvert_exporter": "python",
   "pygments_lexer": "ipython3",
   "version": "3.12.3"
  }
 },
 "nbformat": 4,
 "nbformat_minor": 5
}
