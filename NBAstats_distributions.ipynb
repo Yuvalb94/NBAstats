{
 "cells": [
  {
   "cell_type": "markdown",
   "id": "75978dae",
   "metadata": {},
   "source": [
    "\n",
    "# NBA Top-150: Stat Distributions & Summary\n",
    "\n",
    "This notebook:\n",
    "- Loads a per-game CSV (e.g., `nba_top_150_per_game_24_25.csv`)\n",
    "- Detects key stat columns (PTS, REB, AST, STL, BLK, TOV, 3PM, FG%, FT%)\n",
    "- Computes **mean, median, ±1 SD**, plus min/max and quartiles\n",
    "- Saves a summary CSV\n",
    "- Plots distributions (histograms) with mean and ±1 SD vertical lines\n",
    "\n",
    "> Tip: Edit the **Configuration** cell below to set your CSV path and output folder.\n"
   ]
  },
  {
   "cell_type": "code",
   "execution_count": null,
   "id": "d2036dcc",
   "metadata": {},
   "outputs": [],
   "source": [
    "!pip install caas_jupyter"
   ]
  },
  {
   "cell_type": "code",
   "execution_count": 1,
   "id": "d2e9eb9b",
   "metadata": {},
   "outputs": [
    {
     "ename": "ModuleNotFoundError",
     "evalue": "No module named 'caas_jupyter_tools'",
     "output_type": "error",
     "traceback": [
      "\u001b[31m---------------------------------------------------------------------------\u001b[39m",
      "\u001b[31mModuleNotFoundError\u001b[39m                       Traceback (most recent call last)",
      "\u001b[36mCell\u001b[39m\u001b[36m \u001b[39m\u001b[32mIn[1]\u001b[39m\u001b[32m, line 8\u001b[39m\n\u001b[32m      5\u001b[39m \u001b[38;5;28;01mimport\u001b[39;00m\u001b[38;5;250m \u001b[39m\u001b[34;01mmatplotlib\u001b[39;00m\u001b[34;01m.\u001b[39;00m\u001b[34;01mpyplot\u001b[39;00m\u001b[38;5;250m \u001b[39m\u001b[38;5;28;01mas\u001b[39;00m\u001b[38;5;250m \u001b[39m\u001b[34;01mplt\u001b[39;00m\n\u001b[32m      7\u001b[39m \u001b[38;5;66;03m# Jupyter display helpers\u001b[39;00m\n\u001b[32m----> \u001b[39m\u001b[32m8\u001b[39m \u001b[38;5;28;01mfrom\u001b[39;00m\u001b[38;5;250m \u001b[39m\u001b[34;01mcaas_jupyter_tools\u001b[39;00m\u001b[38;5;250m \u001b[39m\u001b[38;5;28;01mimport\u001b[39;00m display_dataframe_to_user\n\u001b[32m     10\u001b[39m \u001b[38;5;66;03m# matplotlib inline in classic Notebook; VS Code auto-handles this as well\u001b[39;00m\n\u001b[32m     11\u001b[39m get_ipython().run_line_magic(\u001b[33m'\u001b[39m\u001b[33mmatplotlib\u001b[39m\u001b[33m'\u001b[39m, \u001b[33m'\u001b[39m\u001b[33minline\u001b[39m\u001b[33m'\u001b[39m)\n",
      "\u001b[31mModuleNotFoundError\u001b[39m: No module named 'caas_jupyter_tools'"
     ]
    }
   ],
   "source": [
    "\n",
    "import os\n",
    "from pathlib import Path\n",
    "import numpy as np\n",
    "import pandas as pd\n",
    "import matplotlib.pyplot as plt\n",
    "\n",
    "# Jupyter display helpers\n",
    "from caas_jupyter_tools import display_dataframe_to_user\n",
    "\n",
    "# matplotlib inline in classic Notebook; VS Code auto-handles this as well\n",
    "%matplotlib inline\n"
   ]
  },
  {
   "cell_type": "code",
   "execution_count": 6,
   "id": "17e18c0b",
   "metadata": {},
   "outputs": [],
   "source": [
    "\n",
    "# === Configuration ===\n",
    "CSV_PATH = \"/home/builder/Desktop/NBAstats/nba_top180_per_game_2024-25.csv\"   # <-- change to your file location\n",
    "OUTDIR = Path(\"outputs\")                                     # where to save summary & figures\n",
    "BINS = 20                                                    # histogram bins\n",
    "OUTDIR.mkdir(parents=True, exist_ok=True)\n"
   ]
  },
  {
   "cell_type": "code",
   "execution_count": 7,
   "id": "72150d12",
   "metadata": {},
   "outputs": [
    {
     "name": "stdout",
     "output_type": "stream",
     "text": [
      "Loaded '/home/builder/Desktop/NBAstats/nba_top180_per_game_2024-25.csv' with shape (180, 15)\n"
     ]
    },
    {
     "data": {
      "application/vnd.microsoft.datawrangler.viewer.v0+json": {
       "columns": [
        {
         "name": "index",
         "rawType": "int64",
         "type": "integer"
        },
        {
         "name": "SEASON",
         "rawType": "object",
         "type": "string"
        },
        {
         "name": "PLAYER_ID",
         "rawType": "int64",
         "type": "integer"
        },
        {
         "name": "PLAYER_NAME",
         "rawType": "object",
         "type": "string"
        },
        {
         "name": "TEAM_ABBREVIATION",
         "rawType": "object",
         "type": "string"
        },
        {
         "name": "GP",
         "rawType": "int64",
         "type": "integer"
        },
        {
         "name": "MIN",
         "rawType": "float64",
         "type": "float"
        },
        {
         "name": "PTS",
         "rawType": "float64",
         "type": "float"
        },
        {
         "name": "REB",
         "rawType": "float64",
         "type": "float"
        },
        {
         "name": "AST",
         "rawType": "float64",
         "type": "float"
        },
        {
         "name": "STL",
         "rawType": "float64",
         "type": "float"
        },
        {
         "name": "BLK",
         "rawType": "float64",
         "type": "float"
        },
        {
         "name": "TOV",
         "rawType": "float64",
         "type": "float"
        },
        {
         "name": "3PM",
         "rawType": "float64",
         "type": "float"
        },
        {
         "name": "FG%",
         "rawType": "float64",
         "type": "float"
        },
        {
         "name": "FT%",
         "rawType": "float64",
         "type": "float"
        }
       ],
       "ref": "839715d5-4a54-4b11-b941-c57663e76279",
       "rows": [
        [
         "0",
         "2024-25",
         "1628969",
         "Mikal Bridges",
         "NYK",
         "82",
         "37.0",
         "17.6",
         "3.2",
         "3.7",
         "0.9",
         "0.5",
         "1.6",
         "2.0",
         "0.5",
         "0.814"
        ],
        [
         "1",
         "2024-25",
         "1628404",
         "Josh Hart",
         "NYK",
         "77",
         "37.6",
         "13.6",
         "9.6",
         "5.9",
         "1.5",
         "0.4",
         "2.1",
         "1.1",
         "0.525",
         "0.776"
        ],
        [
         "2",
         "2024-25",
         "1630162",
         "Anthony Edwards",
         "MIN",
         "79",
         "36.3",
         "27.6",
         "5.7",
         "4.5",
         "1.2",
         "0.6",
         "3.2",
         "4.1",
         "0.447",
         "0.837"
        ],
        [
         "3",
         "2024-25",
         "1626164",
         "Devin Booker",
         "PHX",
         "75",
         "37.3",
         "25.6",
         "4.1",
         "7.1",
         "0.9",
         "0.2",
         "2.9",
         "2.4",
         "0.461",
         "0.894"
        ],
        [
         "4",
         "2024-25",
         "201935",
         "James Harden",
         "LAC",
         "79",
         "35.3",
         "22.8",
         "5.8",
         "8.7",
         "1.5",
         "0.7",
         "4.3",
         "3.0",
         "0.41",
         "0.874"
        ]
       ],
       "shape": {
        "columns": 15,
        "rows": 5
       }
      },
      "text/html": [
       "<div>\n",
       "<style scoped>\n",
       "    .dataframe tbody tr th:only-of-type {\n",
       "        vertical-align: middle;\n",
       "    }\n",
       "\n",
       "    .dataframe tbody tr th {\n",
       "        vertical-align: top;\n",
       "    }\n",
       "\n",
       "    .dataframe thead th {\n",
       "        text-align: right;\n",
       "    }\n",
       "</style>\n",
       "<table border=\"1\" class=\"dataframe\">\n",
       "  <thead>\n",
       "    <tr style=\"text-align: right;\">\n",
       "      <th></th>\n",
       "      <th>SEASON</th>\n",
       "      <th>PLAYER_ID</th>\n",
       "      <th>PLAYER_NAME</th>\n",
       "      <th>TEAM_ABBREVIATION</th>\n",
       "      <th>GP</th>\n",
       "      <th>MIN</th>\n",
       "      <th>PTS</th>\n",
       "      <th>REB</th>\n",
       "      <th>AST</th>\n",
       "      <th>STL</th>\n",
       "      <th>BLK</th>\n",
       "      <th>TOV</th>\n",
       "      <th>3PM</th>\n",
       "      <th>FG%</th>\n",
       "      <th>FT%</th>\n",
       "    </tr>\n",
       "  </thead>\n",
       "  <tbody>\n",
       "    <tr>\n",
       "      <th>0</th>\n",
       "      <td>2024-25</td>\n",
       "      <td>1628969</td>\n",
       "      <td>Mikal Bridges</td>\n",
       "      <td>NYK</td>\n",
       "      <td>82</td>\n",
       "      <td>37.0</td>\n",
       "      <td>17.6</td>\n",
       "      <td>3.2</td>\n",
       "      <td>3.7</td>\n",
       "      <td>0.9</td>\n",
       "      <td>0.5</td>\n",
       "      <td>1.6</td>\n",
       "      <td>2.0</td>\n",
       "      <td>0.500</td>\n",
       "      <td>0.814</td>\n",
       "    </tr>\n",
       "    <tr>\n",
       "      <th>1</th>\n",
       "      <td>2024-25</td>\n",
       "      <td>1628404</td>\n",
       "      <td>Josh Hart</td>\n",
       "      <td>NYK</td>\n",
       "      <td>77</td>\n",
       "      <td>37.6</td>\n",
       "      <td>13.6</td>\n",
       "      <td>9.6</td>\n",
       "      <td>5.9</td>\n",
       "      <td>1.5</td>\n",
       "      <td>0.4</td>\n",
       "      <td>2.1</td>\n",
       "      <td>1.1</td>\n",
       "      <td>0.525</td>\n",
       "      <td>0.776</td>\n",
       "    </tr>\n",
       "    <tr>\n",
       "      <th>2</th>\n",
       "      <td>2024-25</td>\n",
       "      <td>1630162</td>\n",
       "      <td>Anthony Edwards</td>\n",
       "      <td>MIN</td>\n",
       "      <td>79</td>\n",
       "      <td>36.3</td>\n",
       "      <td>27.6</td>\n",
       "      <td>5.7</td>\n",
       "      <td>4.5</td>\n",
       "      <td>1.2</td>\n",
       "      <td>0.6</td>\n",
       "      <td>3.2</td>\n",
       "      <td>4.1</td>\n",
       "      <td>0.447</td>\n",
       "      <td>0.837</td>\n",
       "    </tr>\n",
       "    <tr>\n",
       "      <th>3</th>\n",
       "      <td>2024-25</td>\n",
       "      <td>1626164</td>\n",
       "      <td>Devin Booker</td>\n",
       "      <td>PHX</td>\n",
       "      <td>75</td>\n",
       "      <td>37.3</td>\n",
       "      <td>25.6</td>\n",
       "      <td>4.1</td>\n",
       "      <td>7.1</td>\n",
       "      <td>0.9</td>\n",
       "      <td>0.2</td>\n",
       "      <td>2.9</td>\n",
       "      <td>2.4</td>\n",
       "      <td>0.461</td>\n",
       "      <td>0.894</td>\n",
       "    </tr>\n",
       "    <tr>\n",
       "      <th>4</th>\n",
       "      <td>2024-25</td>\n",
       "      <td>201935</td>\n",
       "      <td>James Harden</td>\n",
       "      <td>LAC</td>\n",
       "      <td>79</td>\n",
       "      <td>35.3</td>\n",
       "      <td>22.8</td>\n",
       "      <td>5.8</td>\n",
       "      <td>8.7</td>\n",
       "      <td>1.5</td>\n",
       "      <td>0.7</td>\n",
       "      <td>4.3</td>\n",
       "      <td>3.0</td>\n",
       "      <td>0.410</td>\n",
       "      <td>0.874</td>\n",
       "    </tr>\n",
       "  </tbody>\n",
       "</table>\n",
       "</div>"
      ],
      "text/plain": [
       "    SEASON  PLAYER_ID      PLAYER_NAME TEAM_ABBREVIATION  GP   MIN   PTS  REB  \\\n",
       "0  2024-25    1628969    Mikal Bridges               NYK  82  37.0  17.6  3.2   \n",
       "1  2024-25    1628404        Josh Hart               NYK  77  37.6  13.6  9.6   \n",
       "2  2024-25    1630162  Anthony Edwards               MIN  79  36.3  27.6  5.7   \n",
       "3  2024-25    1626164     Devin Booker               PHX  75  37.3  25.6  4.1   \n",
       "4  2024-25     201935     James Harden               LAC  79  35.3  22.8  5.8   \n",
       "\n",
       "   AST  STL  BLK  TOV  3PM    FG%    FT%  \n",
       "0  3.7  0.9  0.5  1.6  2.0  0.500  0.814  \n",
       "1  5.9  1.5  0.4  2.1  1.1  0.525  0.776  \n",
       "2  4.5  1.2  0.6  3.2  4.1  0.447  0.837  \n",
       "3  7.1  0.9  0.2  2.9  2.4  0.461  0.894  \n",
       "4  8.7  1.5  0.7  4.3  3.0  0.410  0.874  "
      ]
     },
     "execution_count": 7,
     "metadata": {},
     "output_type": "execute_result"
    }
   ],
   "source": [
    "\n",
    "df = pd.read_csv(CSV_PATH)\n",
    "print(f\"Loaded {CSV_PATH!r} with shape {df.shape}\")\n",
    "df.head()\n"
   ]
  },
  {
   "cell_type": "code",
   "execution_count": 9,
   "id": "d011d275",
   "metadata": {},
   "outputs": [],
   "source": [
    "\n",
    "# Candidate column names we’ll accept for each logical stat\n",
    "STAT_NAME_ALIASES = {\n",
    "    \"PTS\": [\"PTS\"],\n",
    "    \"REB\": [\"REB\", \"TRB\"],\n",
    "    \"AST\": [\"AST\"],\n",
    "    \"STL\": [\"STL\"],\n",
    "    \"BLK\": [\"BLK\"],\n",
    "    \"TOV\": [\"TOV\", \"TO\"],\n",
    "    \"3PM\": [\"3PM\", \"FG3M\", \"3P\"],\n",
    "    \"FG%\": [\"FG%\", \"FG_PCT\"],\n",
    "    \"FT%\": [\"FT%\", \"FT_PCT\"],\n",
    "    # Uncomment to include GP/MIN distributions:\n",
    "    # \"GP\": [\"GP\"],\n",
    "    # \"MIN\": [\"MIN\"],\n",
    "}\n",
    "\n",
    "def pick_present_columns(df: pd.DataFrame) -> dict:\n",
    "    \"\"\"Return mapping {logical_name: actual_col_in_df} for the stats present.\"\"\"\n",
    "    actual = {}\n",
    "    lower_cols = {c.lower(): c for c in df.columns}\n",
    "    for logical, candidates in STAT_NAME_ALIASES.items():\n",
    "        for cand in candidates:\n",
    "            if cand.lower() in lower_cols:\n",
    "                actual[logical] = lower_cols[cand.lower()]\n",
    "                break\n",
    "    return actual\n",
    "\n",
    "def summarize_stats(df: pd.DataFrame, col_map: dict) -> pd.DataFrame:\n",
    "    \"\"\"Compute mean, median, std (1 SD) for each stat, return as tidy DataFrame.\"\"\"\n",
    "    rows = []\n",
    "    for logical, col in col_map.items():\n",
    "        series = pd.to_numeric(df[col], errors=\"coerce\").dropna()\n",
    "        if series.empty:\n",
    "            continue\n",
    "        rows.append({\n",
    "            \"stat\": logical,\n",
    "            \"column\": col,\n",
    "            \"count\": int(series.count()),\n",
    "            \"mean\": float(series.mean()),\n",
    "            \"median\": float(series.median()),\n",
    "            \"std\": float(series.std(ddof=1)),\n",
    "            \"min\": float(series.min()),\n",
    "            \"max\": float(series.max()),\n",
    "            \"p25\": float(series.quantile(0.25)),\n",
    "            \"p75\": float(series.quantile(0.75)),\n",
    "        })\n",
    "    out = pd.DataFrame(rows).sort_values(\"stat\").reset_index(drop=True)\n",
    "    return out\n"
   ]
  },
  {
   "cell_type": "code",
   "execution_count": 10,
   "id": "91fc4f96",
   "metadata": {},
   "outputs": [
    {
     "name": "stdout",
     "output_type": "stream",
     "text": [
      "\n",
      "=== Summary (mean, median, ±1 SD) ===\n",
      "\n",
      " 3PM  mean=1.827  median=1.750  std=0.888  (n=180)\n",
      " AST  mean=3.551  median=3.000  std=2.071  (n=180)\n",
      " BLK  mean=0.547  median=0.400  std=0.482  (n=180)\n",
      " FG%  mean=0.468  median=0.458  std=0.057  (n=180)\n",
      " FT%  mean=0.791  median=0.808  std=0.081  (n=180)\n",
      " PTS  mean=15.286  median=13.850  std=5.974  (n=180)\n",
      " REB  mean=5.149  median=4.300  std=2.535  (n=180)\n",
      " STL  mean=0.982  median=0.900  std=0.349  (n=180)\n",
      " TOV  mean=1.746  median=1.600  std=0.856  (n=180)\n",
      "\n",
      "Saved summary → outputs/stat_distributions_summary.csv\n"
     ]
    },
    {
     "ename": "NameError",
     "evalue": "name 'display_dataframe_to_user' is not defined",
     "output_type": "error",
     "traceback": [
      "\u001b[31m---------------------------------------------------------------------------\u001b[39m",
      "\u001b[31mNameError\u001b[39m                                 Traceback (most recent call last)",
      "\u001b[36mCell\u001b[39m\u001b[36m \u001b[39m\u001b[32mIn[10]\u001b[39m\u001b[32m, line 17\u001b[39m\n\u001b[32m     14\u001b[39m summary.to_csv(summary_path, index=\u001b[38;5;28;01mFalse\u001b[39;00m)\n\u001b[32m     15\u001b[39m \u001b[38;5;28mprint\u001b[39m(\u001b[33mf\u001b[39m\u001b[33m\"\u001b[39m\u001b[33mSaved summary → \u001b[39m\u001b[38;5;132;01m{\u001b[39;00msummary_path\u001b[38;5;132;01m}\u001b[39;00m\u001b[33m\"\u001b[39m)\n\u001b[32m---> \u001b[39m\u001b[32m17\u001b[39m \u001b[43mdisplay_dataframe_to_user\u001b[49m(\u001b[33m\"\u001b[39m\u001b[33mStat Distributions Summary\u001b[39m\u001b[33m\"\u001b[39m, summary)\n\u001b[32m     18\u001b[39m summary\n",
      "\u001b[31mNameError\u001b[39m: name 'display_dataframe_to_user' is not defined"
     ]
    }
   ],
   "source": [
    "\n",
    "col_map = pick_present_columns(df)\n",
    "if not col_map:\n",
    "    raise RuntimeError(\"No expected stat columns found. Check your CSV headers or STAT_NAME_ALIASES.\")\n",
    "\n",
    "summary = summarize_stats(df, col_map)\n",
    "\n",
    "print(\"\\n=== Summary (mean, median, ±1 SD) ===\\n\")\n",
    "for _, row in summary.iterrows():\n",
    "    print(f\"{row['stat']:>4}  mean={row['mean']:.3f}  median={row['median']:.3f}  std={row['std']:.3f}  (n={row['count']})\")\n",
    "print()\n",
    "\n",
    "# Save and display summary\n",
    "summary_path = OUTDIR / \"stat_distributions_summary.csv\"\n",
    "summary.to_csv(summary_path, index=False)\n",
    "print(f\"Saved summary → {summary_path}\")\n",
    "\n",
    "display_dataframe_to_user(\"Stat Distributions Summary\", summary)\n",
    "summary\n"
   ]
  },
  {
   "cell_type": "code",
   "execution_count": null,
   "id": "abc48dd4",
   "metadata": {},
   "outputs": [],
   "source": [
    "\n",
    "figs_dir = OUTDIR / \"figures\"\n",
    "figs_dir.mkdir(parents=True, exist_ok=True)\n",
    "\n",
    "for logical, col in col_map.items():\n",
    "    series = pd.to_numeric(df[col], errors=\"coerce\").dropna()\n",
    "    if series.empty:\n",
    "        continue\n",
    "\n",
    "    mean = series.mean()\n",
    "    std = series.std(ddof=1)\n",
    "\n",
    "    plt.figure(figsize=(7, 5))\n",
    "    plt.hist(series, bins=BINS, edgecolor=\"black\")\n",
    "    plt.axvline(mean, linestyle=\"--\", linewidth=1.5, label=f\"Mean = {mean:.3f}\")\n",
    "    if np.isfinite(std) and std > 0:\n",
    "        plt.axvline(mean - std, linestyle=\":\", linewidth=1.2, label=f\"Mean - 1 SD = {mean - std:.3f}\")\n",
    "        plt.axvline(mean + std, linestyle=\":\", linewidth=1.2, label=f\"Mean + 1 SD = {mean + std:.3f}\")\n",
    "\n",
    "    plt.title(f\"Distribution of {logical} ({col})\")\n",
    "    plt.xlabel(logical)\n",
    "    plt.ylabel(\"Count\")\n",
    "    plt.legend()\n",
    "    plt.tight_layout()\n",
    "\n",
    "    outpath = figs_dir / f\"hist_{logical.replace('%','pct')}.png\"\n",
    "    plt.savefig(outpath, dpi=150)\n",
    "    plt.show()\n",
    "\n",
    "print(f\"Saved histograms → {figs_dir}\")\n"
   ]
  },
  {
   "cell_type": "markdown",
   "id": "8374dfc4",
   "metadata": {},
   "source": [
    "\n",
    "## Notes & Tweaks\n",
    "- To include **GP** and **MIN** in the plots and summary, add them to `STAT_NAME_ALIASES` and re-run.\n",
    "- If your CSV uses different headers, add them as aliases in `STAT_NAME_ALIASES`.\n",
    "- Increase `BINS` for smoother histograms on larger samples.\n",
    "- The summary CSV is saved in your `OUTDIR` for quick export.\n"
   ]
  }
 ],
 "metadata": {
  "kernelspec": {
   "display_name": ".venv",
   "language": "python",
   "name": "python3"
  },
  "language_info": {
   "codemirror_mode": {
    "name": "ipython",
    "version": 3
   },
   "file_extension": ".py",
   "mimetype": "text/x-python",
   "name": "python",
   "nbconvert_exporter": "python",
   "pygments_lexer": "ipython3",
   "version": "3.12.3"
  }
 },
 "nbformat": 4,
 "nbformat_minor": 5
}
